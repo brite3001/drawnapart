{
  "nbformat": 4,
  "nbformat_minor": 0,
  "metadata": {
    "colab": {
      "name": "drawnapart_demo.ipynb",
      "provenance": [],
      "collapsed_sections": []
    },
    "kernelspec": {
      "name": "python_defaultSpec_1599166300990",
      "display_name": "Python 3.7.6 64-bit"
    }
  },
  "cells": [
    {
      "cell_type": "code",
      "metadata": {
        "id": "WHYiy3FbEggD",
        "tags": []
      },
      "source": [
        "import pandas as pd\n",
        "import numpy as np\n",
        "import matplotlib.pyplot as plt\n",
        "import seaborn as sns\n",
        "\n",
        "from sklearn.model_selection import train_test_split\n",
        "from sklearn.ensemble import RandomForestClassifier\n",
        "from sklearn.metrics import confusion_matrix, classification_report\n",
        "\n",
        "# # required for class labels (colab default version is 0.14)\n",
        "!sudo pip install mlxtend --upgrade --no-deps\n",
        "from mlxtend.plotting import plot_confusion_matrix\n",
        "\n",
        "# load the traces for gen3, gen4, gen8 and gen10\n",
        "!wget https://github.com/drawnapart/drawnapart/raw/master/gen3_onscreen_mul_cpu_timer.tgz\n",
        "!wget https://github.com/drawnapart/drawnapart/raw/master/gen3_onscreen_exp2_cpu_timer.tgz\n",
        "\n",
        "!wget https://github.com/drawnapart/drawnapart/raw/master/gen4_offscreen_mul_cpu_timer.tgz\n",
        "!wget https://github.com/drawnapart/drawnapart/raw/master/gen4_offscreen_sinh_cpu_timer.tgz\n",
        "\n",
        "!wget https://github.com/drawnapart/drawnapart/raw/master/gen8_offscreen_sinh_cpu_timer.tgz\n",
        "!wget https://github.com/drawnapart/drawnapart/raw/master/gen8_offscreen_sinh_gpu_timer.tgz\n",
        "\n",
        "!wget https://github.com/drawnapart/drawnapart/raw/master/gen10_offscreen_sinh_cpu_timer.tgz\n",
        "!wget https://github.com/drawnapart/drawnapart/raw/master/gen10_offscreen_sinh_gpu_timer.tgz\n",
        "\n",
        "!tar xzvf gen3_onscreen_mul_cpu_timer.tgz\n",
        "!tar xzvf gen3_onscreen_exp2_cpu_timer.tgz\n",
        "\n",
        "!tar xzvf gen4_offscreen_mul_cpu_timer.tgz\n",
        "!tar xzvf gen4_offscreen_sinh_cpu_timer.tgz\n",
        "\n",
        "!tar xzvf gen8_offscreen_sinh_cpu_timer.tgz\n",
        "!tar xzvf gen8_offscreen_sinh_gpu_timer.tgz\n",
        "\n",
        "!tar xzvf gen10_offscreen_sinh_cpu_timer.tgz\n",
        "!tar xzvf gen10_offscreen_sinh_gpu_timer.tgz\n",
        "\n",
        "gen3_onscreen_mul_cpu_timer_traces = pd.read_csv('gen3_onscreen_mul_cpu_timer.csv')\n",
        "gen3_onscreen_exp2_cpu_timer_traces = pd.read_csv('gen3_onscreen_exp2_cpu_timer.csv')\n",
        "\n",
        "gen4_offscreen_mul_cpu_timer_traces = pd.read_csv('gen4_offscreen_mul_cpu_timer.csv')\n",
        "gen4_offscreen_sinh_cpu_timer_traces = pd.read_csv('gen4_offscreen_sinh_cpu_timer.csv')\n",
        "\n",
        "gen8_offscreen_sinh_cpu_timer_traces = pd.read_csv('gen8_offscreen_sinh_cpu_timer.csv')\n",
        "gen8_offscreen_sinh_gpu_timer_traces = pd.read_csv('gen8_offscreen_sinh_gpu_timer.csv')\n",
        "\n",
        "gen10_offscreen_sinh_cpu_timer_traces = pd.read_csv('gen10_offscreen_sinh_cpu_timer.csv')\n",
        "gen10_offscreen_sinh_gpu_timer_traces = pd.read_csv('gen10_offscreen_sinh_gpu_timer.csv')"
      ],
      "execution_count": null,
      "outputs": []
    },
    {
      "cell_type": "code",
      "metadata": {
        "id": "gg3dwet8v9Cl"
      },
      "source": [
        "gen4_offscreen_sinh_cpu_timer_traces.columns"
      ],
      "execution_count": null,
      "outputs": []
    },
    {
      "cell_type": "code",
      "metadata": {
        "id": "1ycxWvb7nonP"
      },
      "source": [
        "# Visualize some traces from the offscreen gen4 traces\n",
        "\n",
        "number_of_labels = 4\n",
        "labels_to_traces = {}\n",
        "for label, traces in gen4_offscreen_sinh_cpu_timer_traces.groupby('label'):\n",
        "  # take 4 random traces for this label\n",
        "  labels_to_traces[label] = traces.sample(frac=1, random_state=19).iloc[:4, 1:]\n",
        "  if len(labels_to_traces.keys()) >= number_of_labels:\n",
        "    break\n",
        "\n",
        "stacked = np.vstack(labels_to_traces.values())\n",
        "stacked = np.log(stacked)\n",
        "shared_max = np.max(stacked)\n",
        "shared_min = np.min(stacked)\n",
        "\n",
        "for i, (label, traces) in enumerate(labels_to_traces.items()):\n",
        "  plt.figure(figsize=(10, 4))\n",
        "  sns.heatmap(np.log(traces), cmap='nipy_spectral', vmin=shared_min, vmax=shared_max)\n",
        "  plt.title(f'Visualization Of 4 Traces, device {i}')\n",
        "  plt.xlabel('sample index')\n",
        "  plt.ylabel('trace index')\n",
        "  plt.xticks([])\n",
        "  plt.yticks([])\n",
        "  plt.show()"
      ],
      "execution_count": null,
      "outputs": []
    },
    {
      "cell_type": "code",
      "metadata": {
        "id": "E-3CZskZHRjF"
      },
      "source": [
        "def classify(dataset, name):\n",
        "    print('--------------------------' + name + '--------------------------')\n",
        "    # split into train and test\n",
        "    y = dataset.iloc[:,0]\n",
        "    X = dataset.iloc[:,1:]\n",
        "    X_train, X_test, y_train, y_test = train_test_split(X, y, test_size=0.25)\n",
        "\n",
        "    # train and test the classifier\n",
        "    clf = RandomForestClassifier(n_estimators=560)\n",
        "    clf.fit(X_train, y_train)\n",
        "\n",
        "    y_pred = clf.predict(X_test)\n",
        "    print(classification_report(y_test, y_pred))\n",
        "\n",
        "    # display the confusion matrix\n",
        "    cm = confusion_matrix(y_test, y_pred)\n",
        "    fig, ax = plot_confusion_matrix(conf_mat=cm,\n",
        "                                show_absolute=True,\n",
        "                                show_normed=True,\n",
        "                                colorbar=True,\n",
        "                                class_names=np.unique(y_test),\n",
        "                                figsize=(13,13),\n",
        "                                cmap='Blues')\n",
        "    plt.show()\n",
        "\n",
        "\n"
      ],
      "execution_count": null,
      "outputs": []
    },
    {
      "cell_type": "code",
      "metadata": {
        "id": "1jio6148yxA2"
      },
      "source": [
        "classify(gen3_onscreen_mul_cpu_timer_traces, 'gen3 mul cpu timer')\n",
        "classify(gen3_onscreen_exp2_cpu_timer_traces, 'gen3 exp2 cpu timer')\n",
        "\n",
        "classify(gen4_offscreen_mul_cpu_timer_traces, 'gen4 mul cpu timer')\n",
        "classify(gen4_offscreen_sinh_cpu_timer_traces, 'gen4 sinh cpu timer')\n",
        "\n",
        "classify(gen8_offscreen_sinh_cpu_timer_traces, 'gen8 sinh cpu timer')\n",
        "classify(gen8_offscreen_sinh_gpu_timer_traces, 'gen8 sinh gpu timer')\n",
        "\n",
        "classify(gen10_offscreen_sinh_cpu_timer_traces, 'gen10 sinh cpu timer')\n",
        "classify(gen10_offscreen_sinh_gpu_timer_traces, 'gen10 sinh gpu timer')"
      ],
      "execution_count": null,
      "outputs": []
    }
  ]
}
